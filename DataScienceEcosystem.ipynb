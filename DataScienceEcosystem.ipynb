{
 "cells": [
  {
   "cell_type": "markdown",
   "id": "76b33066-8b12-4166-85c7-d5a9b1baa4e1",
   "metadata": {},
   "source": [
    "# Data Science Jupyter Notebook Assignment"
   ]
  },
  {
   "cell_type": "markdown",
   "id": "b2113667-5b7d-481b-ae25-dc64441276d1",
   "metadata": {},
   "source": [
    "In this notebook, Data Science tools and Ecosystems are listed and summarized "
   ]
  },
  {
   "cell_type": "markdown",
   "id": "0d4f55e7-4a7f-4b85-a4c9-4d724ede35df",
   "metadata": {},
   "source": [
    "**Objectives:**\n",
    "\n",
    "  * Learn to use Jupyter Notebooks.\n",
    "\n",
    "  * Learn to work with tools like Python and R\n",
    "\n",
    "  * Be able to navigate IBM Watson Studio\n",
    "  \n",
    "  * Study data management, open source data integration, transformation, and visualization tools. "
   ]
  },
  {
   "cell_type": "markdown",
   "id": "2a4d3598-4939-4e97-9b53-0a2e213ed22e",
   "metadata": {},
   "source": [
    "Some of the Popular Data Science Languages:\n",
    "\n",
    "    1. Python\n",
    "    \n",
    "    2. R\n",
    "    \n",
    "    3. SQL"
   ]
  },
  {
   "cell_type": "markdown",
   "id": "f8ed8d2f-c4b1-4c72-aed4-dd058100fcab",
   "metadata": {},
   "source": [
    "Some Commonly Used Data Science Libraries Include:\n",
    "\n",
    "1. Visualization Libraries\n",
    "\n",
    "2. Deep Learning Libraries\n",
    "\n",
    "3. Machine Learning Libraries\n",
    "\n",
    "4. Scientific Computing Libraries\n",
    "\n"
   ]
  },
  {
   "cell_type": "markdown",
   "id": "a640b726-94f5-4324-acb5-eb9740b69e79",
   "metadata": {},
   "source": [
    "|  Data Science Tools |  Tool      |\n",
    "|  ------------------ | ---------- |\n",
    "|  Data Management    |  MySQL     |\n",
    "|  Data Integration   |  KbeFlow   |\n",
    "|  Visual Editor      |  NodeRED   |\n",
    "|  Model Monitoring   |  Prometheus|"
   ]
  },
  {
   "cell_type": "code",
   "execution_count": 4,
   "id": "314fa6b0-9303-46e2-b313-56dc0bc88659",
   "metadata": {},
   "outputs": [
    {
     "data": {
      "text/plain": [
       "150"
      ]
     },
     "execution_count": 8,
     "metadata": {},
     "output_type": "execute_result"
    }
   ],
   "source": [
    "100+50"
   ]
  },
  {
   "cell_type": "code",
   "execution_count": 5,
   "id": "70cf3f60-6b23-4674-9075-a6e0aad0ec0c",
   "metadata": {},
   "outputs": [
    {
     "data": {
      "text/plain": [
       "50"
      ]
     },
     "execution_count": 9,
     "metadata": {},
     "output_type": "execute_result"
    }
   ],
   "source": [
    "(12*4)+2"
   ]
  },
  {
   "cell_type": "markdown",
   "id": "d162636d-4f73-4b46-8ecc-4f7d10299dbc",
   "metadata": {
    "jp-MarkdownHeadingCollapsed": true,
    "tags": []
   },
   "source": [
    "### The formula below converts Minutes to Hours (Minutes/60) ###"
   ]
  },
  {
   "cell_type": "code",
   "execution_count": 14,
   "id": "8f956121-30e1-494c-a700-5d923a27ccae",
   "metadata": {},
   "outputs": [
    {
     "data": {
      "text/plain": [
       "5.0"
      ]
     },
     "execution_count": 14,
     "metadata": {},
     "output_type": "execute_result"
    }
   ],
   "source": [
    "300/60"
   ]
  },
  {
   "cell_type": "markdown",
   "id": "6644c7ae-0067-4f41-a00b-481f16f521cf",
   "metadata": {},
   "source": [
    "## Author ##\n",
    "\n",
    "Juan Reyes"
   ]
  },
  {
   "cell_type": "code",
   "execution_count": null,
   "id": "394f9e05-4424-4ab7-8cac-dd7d32b50d40",
   "metadata": {},
   "outputs": [],
   "source": []
  }
 ],
 "metadata": {
  "kernelspec": {
   "display_name": "Python",
   "language": "python",
   "name": "conda-env-python-py"
  },
  "language_info": {
   "codemirror_mode": {
    "name": "ipython",
    "version": 3
   },
   "file_extension": ".py",
   "mimetype": "text/x-python",
   "name": "python",
   "nbconvert_exporter": "python",
   "pygments_lexer": "ipython3",
   "version": "3.7.12"
  }
 },
 "nbformat": 4,
 "nbformat_minor": 5
}
